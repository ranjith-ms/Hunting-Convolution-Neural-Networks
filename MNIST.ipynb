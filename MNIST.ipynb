{
  "nbformat": 4,
  "nbformat_minor": 0,
  "metadata": {
    "colab": {
      "name": "MNIST.ipynb",
      "version": "0.3.2",
      "provenance": [],
      "collapsed_sections": []
    },
    "kernelspec": {
      "name": "python3",
      "display_name": "Python 3"
    },
    "accelerator": "GPU"
  },
  "cells": [
    {
      "metadata": {
        "id": "InJ338DkfRm2",
        "colab_type": "code",
        "outputId": "d460d72a-31ee-42f5-d6ec-34c13282daf0",
        "colab": {
          "base_uri": "https://localhost:8080/",
          "height": 122
        }
      },
      "cell_type": "code",
      "source": [
        "import tensorflow as tf\n",
        "from tensorflow.python.framework import ops\n",
        "import matplotlib.pyplot as plt\n",
        "from google.colab import drive\n",
        "drive.mount('/content/drive/')"
      ],
      "execution_count": 2,
      "outputs": [
        {
          "output_type": "stream",
          "text": [
            "Go to this URL in a browser: https://accounts.google.com/o/oauth2/auth?client_id=947318989803-6bn6qk8qdgf4n4g3pfee6491hc0brc4i.apps.googleusercontent.com&redirect_uri=urn%3Aietf%3Awg%3Aoauth%3A2.0%3Aoob&scope=email%20https%3A%2F%2Fwww.googleapis.com%2Fauth%2Fdocs.test%20https%3A%2F%2Fwww.googleapis.com%2Fauth%2Fdrive%20https%3A%2F%2Fwww.googleapis.com%2Fauth%2Fdrive.photos.readonly%20https%3A%2F%2Fwww.googleapis.com%2Fauth%2Fpeopleapi.readonly&response_type=code\n",
            "\n",
            "Enter your authorization code:\n",
            "··········\n",
            "Mounted at /content/drive/\n"
          ],
          "name": "stdout"
        }
      ]
    },
    {
      "metadata": {
        "id": "fRmHiut3fh8V",
        "colab_type": "code",
        "colab": {}
      },
      "cell_type": "code",
      "source": [
        "def create_placeholder(n_h,n_w,n_y):\n",
        "  X=tf.placeholder(tf.float32,shape=(None,n_h,n_w,1),name='X')\n",
        "  Y=tf.placeholder(tf.float32,shape=(None,n_y),name='Y')\n",
        "  return X,Y\n",
        " "
      ],
      "execution_count": 0,
      "outputs": []
    },
    {
      "metadata": {
        "id": "xGql8LZEhWcn",
        "colab_type": "code",
        "colab": {}
      },
      "cell_type": "code",
      "source": [
        "\n",
        "os.chdir('drive/My Drive')\n"
      ],
      "execution_count": 0,
      "outputs": []
    },
    {
      "metadata": {
        "id": "uthy0rJ0k1Ay",
        "colab_type": "code",
        "outputId": "31f3c61a-eb51-40b6-a189-29e52a67e018",
        "colab": {
          "base_uri": "https://localhost:8080/",
          "height": 34
        }
      },
      "cell_type": "code",
      "source": [
        "import os\n",
        "cwd=os.getcwd()\n",
        "print(cwd)"
      ],
      "execution_count": 9,
      "outputs": [
        {
          "output_type": "stream",
          "text": [
            "/content/drive/My Drive\n"
          ],
          "name": "stdout"
        }
      ]
    },
    {
      "metadata": {
        "id": "G-go6NHXtBf4",
        "colab_type": "code",
        "outputId": "a41cd820-b1dc-4eb3-ddbc-295b9cd725b9",
        "colab": {
          "base_uri": "https://localhost:8080/",
          "height": 34
        }
      },
      "cell_type": "code",
      "source": [
        "!ls"
      ],
      "execution_count": 10,
      "outputs": [
        {
          "output_type": "stream",
          "text": [
            " clouderizer  'Colab Notebooks'\n"
          ],
          "name": "stdout"
        }
      ]
    },
    {
      "metadata": {
        "id": "hRH0G769qry2",
        "colab_type": "code",
        "colab": {}
      },
      "cell_type": "code",
      "source": [
        "def initialize_parameters():\n",
        "  W1=tf.get_variable(\"W1\",[4,4,1,16],initializer=tf.contrib.layers.xavier_initializer())\n",
        "  W2=tf.get_variable(\"W2\",[2,2,16,32],initializer=tf.contrib.layers.xavier_initializer())\n",
        "  parameters={\"W1\":W1,\n",
        "               \"W2\":W2}\n",
        "  return parameters"
      ],
      "execution_count": 0,
      "outputs": []
    },
    {
      "metadata": {
        "id": "npnp1JHJl68S",
        "colab_type": "code",
        "colab": {}
      },
      "cell_type": "code",
      "source": [
        "def forward_propagate(X,parameters):\n",
        "  \n",
        "  W1=parameters['W1']\n",
        "  W2=parameters['W2'] #retriving the parametrs  \n",
        "  \n",
        "  \n",
        "  Z1=tf.nn.conv2d(X,W1,strides=[1,1,1,1],padding='SAME')  \n",
        "  A1=tf.nn.relu(Z1)  \n",
        "  \n",
        "  P1=tf.nn.max_pool(A1,ksize=[1,4,4,1],strides=[1,4,4,1],padding='SAME')\n",
        "  \n",
        "  Z2=tf.nn.conv2d(P1,W2,strides=[1,2,2,1],padding='VALID')\n",
        "  A2=tf.nn.relu(Z2)\n",
        "  \n",
        "  F= tf.contrib.layers.flatten(A2)\n",
        "  Z3=tf.contrib.layers.fully_connected(F,10,activation_fn=None)\n",
        "  \n",
        "  return Z3"
      ],
      "execution_count": 0,
      "outputs": []
    },
    {
      "metadata": {
        "id": "1vLBE-duqTSs",
        "colab_type": "code",
        "colab": {
          "base_uri": "https://localhost:8080/",
          "height": 51
        },
        "outputId": "45820ed8-0440-4a0c-e15b-8d4f0e5cfad8"
      },
      "cell_type": "code",
      "source": [
        "(x_train, y_train), (x_test, y_test) = tf.keras.datasets.mnist.load_data()\n",
        "x_train=x_train.reshape(-1,28,28,1)                                                    #Loading the dataset \n",
        "x_test=x_test.reshape(-1,28,28,1)"
      ],
      "execution_count": 13,
      "outputs": [
        {
          "output_type": "stream",
          "text": [
            "Downloading data from https://storage.googleapis.com/tensorflow/tf-keras-datasets/mnist.npz\n",
            "11493376/11490434 [==============================] - 0s 0us/step\n"
          ],
          "name": "stdout"
        }
      ]
    },
    {
      "metadata": {
        "id": "_Q0Otm8nZ7-5",
        "colab_type": "code",
        "colab": {}
      },
      "cell_type": "code",
      "source": [
        "import numpy as np\n",
        "def convert_to_one_hot(Y, C):\n",
        "    Y = np.eye(C)[Y.reshape(-1)].T\n",
        "    return Y\n",
        "y_train=convert_to_one_hot(y_train,10)\n",
        "y_test=convert_to_one_hot(y_test,10)"
      ],
      "execution_count": 0,
      "outputs": []
    },
    {
      "metadata": {
        "id": "XDbAMQEMZ9g1",
        "colab_type": "code",
        "colab": {}
      },
      "cell_type": "code",
      "source": [
        "y_train=y_train.T\n",
        "y_test=y_test.T"
      ],
      "execution_count": 0,
      "outputs": []
    },
    {
      "metadata": {
        "id": "JMzlMEEEaRys",
        "colab_type": "code",
        "outputId": "0b15a9e3-58f0-4f10-bcc8-96a280c1eb86",
        "colab": {
          "base_uri": "https://localhost:8080/",
          "height": 51
        }
      },
      "cell_type": "code",
      "source": [
        "print(x_train.shape)\n",
        "print(y_test.shape)\n",
        "#X_train=x_train.reshape(-1,28,28,1)\n",
        "#X_test=x_test.reshape(-1,28,28,1)"
      ],
      "execution_count": 16,
      "outputs": [
        {
          "output_type": "stream",
          "text": [
            "(60000, 28, 28, 1)\n",
            "(10000, 10)\n"
          ],
          "name": "stdout"
        }
      ]
    },
    {
      "metadata": {
        "id": "DGxVAv6BtaPo",
        "colab_type": "code",
        "colab": {}
      },
      "cell_type": "code",
      "source": [
        "def compute_cost(Z3,Y):\n",
        "  cost=tf.reduce_mean(tf.nn.softmax_cross_entropy_with_logits(logits=Z3,labels=Y))\n",
        "  return cost"
      ],
      "execution_count": 0,
      "outputs": []
    },
    {
      "metadata": {
        "id": "QNOcCsz-IDT9",
        "colab_type": "code",
        "colab": {}
      },
      "cell_type": "code",
      "source": [
        "def model(x_train,y_train,x_test,y_test):\n",
        "  \n",
        "  ops.reset_default_graph()\n",
        "  (m,n_h,n_w,n_c)=x_train.shape\n",
        "  n_y=10 \n",
        "  costs=[]\n",
        "  X,Y=create_placeholder(n_h,n_w,n_y)\n",
        "  parameters=initialize_parameters()\n",
        "  Z3=forward_propagate(X,parameters)\n",
        "  cost=compute_cost(Z3,Y)\n",
        "    \n",
        "  optimizer=tf.train.AdamOptimizer(learning_rate=0.001).minimize(cost)\n",
        "  init=tf.global_variables_initializer()\n",
        "  \n",
        "  saver = tf.train.Saver()\n",
        "  \n",
        "  with tf.Session() as sess:\n",
        "    sess.run(init)\n",
        "    saver.restore(sess, \"Colab Notebooks/MNIST/MNIST.ckpt\")\n",
        "\n",
        "    #saver.restore(sess,\n",
        "    for epoch in range(500):\n",
        "      _,temp_cost=sess.run([optimizer,cost],feed_dict={X:x_train,Y:y_train})\n",
        "    \n",
        "      if epoch%20==0:\n",
        "        print (\"Cost after epoch %i: %f\" % (epoch, temp_cost))\n",
        "      if epoch % 1 == 0:\n",
        "                costs.append(temp_cost)\n",
        "        \n",
        "    plt.plot(np.squeeze(costs))\n",
        "    plt.ylabel('cost')\n",
        "    plt.xlabel('iterations (per tens)')\n",
        "        #plt.title(\"Learning rate =\" + str(learning_rate))\n",
        "    plt.show()\n",
        "\n",
        "        # Calculate the correct predictions\n",
        "    predict_op = tf.argmax(Z3, 1)\n",
        "    correct_prediction = tf.equal(predict_op, tf.argmax(Y, 1))\n",
        "        \n",
        "        # Calculate accuracy on the test set\n",
        "    accuracy = tf.reduce_mean(tf.cast(correct_prediction, \"float\"))\n",
        "    print(accuracy)\n",
        "    train_accuracy = accuracy.eval({X: x_train, Y: y_train})\n",
        "    test_accuracy = accuracy.eval({X: x_test, Y: y_test})\n",
        "    print(\"Train Accuracy:\", train_accuracy)\n",
        "    print(\"Test Accuracy:\", test_accuracy)\n",
        "    saver.save(sess, \"Colab Notebooks/MNIST.ckpt\")\n",
        "                \n",
        "  return train_accuracy, test_accuracy, parameters     "
      ],
      "execution_count": 0,
      "outputs": []
    },
    {
      "metadata": {
        "id": "zDWuj17hNgw2",
        "colab_type": "code",
        "outputId": "55325199-f4a6-4362-ae57-6f2489592525",
        "colab": {
          "base_uri": "https://localhost:8080/",
          "height": 855
        }
      },
      "cell_type": "code",
      "source": [
        "_, _, parameters = model(x_train, y_train, x_test, y_test)  #with channel number 16,32"
      ],
      "execution_count": 43,
      "outputs": [
        {
          "output_type": "stream",
          "text": [
            "INFO:tensorflow:Restoring parameters from Colab Notebooks/MNIST/MNIST.ckpt\n",
            "Cost after epoch 0: 0.042171\n",
            "Cost after epoch 20: 0.042092\n",
            "Cost after epoch 40: 0.042017\n",
            "Cost after epoch 60: 0.041942\n",
            "Cost after epoch 80: 0.041865\n",
            "Cost after epoch 100: 0.041789\n",
            "Cost after epoch 120: 0.041714\n",
            "Cost after epoch 140: 0.041638\n",
            "Cost after epoch 160: 0.041561\n",
            "Cost after epoch 180: 0.041481\n",
            "Cost after epoch 200: 0.041401\n",
            "Cost after epoch 220: 0.041322\n",
            "Cost after epoch 240: 0.041244\n",
            "Cost after epoch 260: 0.041165\n",
            "Cost after epoch 280: 0.041084\n",
            "Cost after epoch 300: 0.041003\n",
            "Cost after epoch 320: 0.040924\n",
            "Cost after epoch 340: 0.040844\n",
            "Cost after epoch 360: 0.040765\n",
            "Cost after epoch 380: 0.040686\n",
            "Cost after epoch 400: 0.040606\n",
            "Cost after epoch 420: 0.040527\n",
            "Cost after epoch 440: 0.040448\n",
            "Cost after epoch 460: 0.040370\n",
            "Cost after epoch 480: 0.040294\n"
          ],
          "name": "stdout"
        },
        {
          "output_type": "display_data",
          "data": {
            "image/png": "[encoded data removed]",
            "text/plain": [
              "<matplotlib.figure.Figure at 0x7fb08031fb70>"
            ]
          },
          "metadata": {
            "tags": []
          }
        },
        {
          "output_type": "stream",
          "text": [
            "Tensor(\"Mean_1:0\", shape=(), dtype=float32)\n",
            "Train Accuracy: 0.9874\n",
            "Test Accuracy: 0.9773\n"
          ],
          "name": "stdout"
        }
      ]
    },
    {
      "metadata": {
        "id": "hnKsFenVZBHQ",
        "colab_type": "code",
        "colab": {}
      },
      "cell_type": "code",
      "source": [
        " "
      ],
      "execution_count": 0,
      "outputs": []
    }
  ]
}